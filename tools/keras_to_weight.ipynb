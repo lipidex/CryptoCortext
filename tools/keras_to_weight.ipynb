{
 "cells": [
  {
   "cell_type": "code",
   "execution_count": 1,
   "id": "b2ef36bc",
   "metadata": {},
   "outputs": [
    {
     "name": "stderr",
     "output_type": "stream",
     "text": [
      "2025-08-19 14:30:19.391049: E external/local_xla/xla/stream_executor/cuda/cuda_fft.cc:485] Unable to register cuFFT factory: Attempting to register factory for plugin cuFFT when one has already been registered\n",
      "2025-08-19 14:30:19.408236: E external/local_xla/xla/stream_executor/cuda/cuda_dnn.cc:8454] Unable to register cuDNN factory: Attempting to register factory for plugin cuDNN when one has already been registered\n",
      "2025-08-19 14:30:19.413704: E external/local_xla/xla/stream_executor/cuda/cuda_blas.cc:1452] Unable to register cuBLAS factory: Attempting to register factory for plugin cuBLAS when one has already been registered\n",
      "2025-08-19 14:30:19.427689: I tensorflow/core/platform/cpu_feature_guard.cc:210] This TensorFlow binary is optimized to use available CPU instructions in performance-critical operations.\n",
      "To enable the following instructions: SSE4.1 SSE4.2 AVX AVX2 FMA, in other operations, rebuild TensorFlow with the appropriate compiler flags.\n"
     ]
    }
   ],
   "source": [
    "import re\n",
    "import math\n",
    "import keras\n",
    "import numpy as np\n",
    "import tensorflow as tf\n",
    "import tensorflow_datasets as tfds"
   ]
  },
  {
   "cell_type": "code",
   "execution_count": 2,
   "id": "de3e2247",
   "metadata": {},
   "outputs": [
    {
     "name": "stdout",
     "output_type": "stream",
     "text": [
      "Device: /physical_device:GPU:0, Compute Capability: (7, 5)\n"
     ]
    },
    {
     "name": "stderr",
     "output_type": "stream",
     "text": [
      "WARNING: All log messages before absl::InitializeLog() is called are written to STDERR\n",
      "I0000 00:00:1755613821.807288   58416 cuda_executor.cc:1015] successful NUMA node read from SysFS had negative value (-1), but there must be at least one NUMA node, so returning NUMA node zero. See more at https://github.com/torvalds/linux/blob/v6.0/Documentation/ABI/testing/sysfs-bus-pci#L344-L355\n",
      "I0000 00:00:1755613821.863094   58416 cuda_executor.cc:1015] successful NUMA node read from SysFS had negative value (-1), but there must be at least one NUMA node, so returning NUMA node zero. See more at https://github.com/torvalds/linux/blob/v6.0/Documentation/ABI/testing/sysfs-bus-pci#L344-L355\n",
      "I0000 00:00:1755613821.863487   58416 cuda_executor.cc:1015] successful NUMA node read from SysFS had negative value (-1), but there must be at least one NUMA node, so returning NUMA node zero. See more at https://github.com/torvalds/linux/blob/v6.0/Documentation/ABI/testing/sysfs-bus-pci#L344-L355\n",
      "I0000 00:00:1755613821.864756   58416 cuda_executor.cc:1015] successful NUMA node read from SysFS had negative value (-1), but there must be at least one NUMA node, so returning NUMA node zero. See more at https://github.com/torvalds/linux/blob/v6.0/Documentation/ABI/testing/sysfs-bus-pci#L344-L355\n"
     ]
    }
   ],
   "source": [
    "gpus = tf.config.experimental.list_physical_devices('GPU')\n",
    "\n",
    "for gpu in gpus:\n",
    "    details = tf.config.experimental.get_device_details(gpu)\n",
    "    compute_capability = details.get('compute_capability', 'Unknown')\n",
    "    print(f\"Device: {gpu.name}, Compute Capability: {compute_capability}\")\n",
    "    \n",
    "    try:\n",
    "        tf.config.experimental.set_memory_growth(gpu, True)\n",
    "    except RuntimeError as e:\n",
    "        print(e)"
   ]
  },
  {
   "cell_type": "code",
   "execution_count": 3,
   "id": "12db23b7",
   "metadata": {},
   "outputs": [],
   "source": [
    "MODEL_PATH = \"../model/\""
   ]
  },
  {
   "cell_type": "code",
   "execution_count": 4,
   "id": "9c2042cb",
   "metadata": {},
   "outputs": [],
   "source": [
    "def print_mnist(ds):\n",
    "    import matplotlib.pyplot as plt\n",
    "\n",
    "    # Function to display MNIST images\n",
    "    def show_images(images, labels):\n",
    "        plt.figure(figsize=(10, 5))\n",
    "        for i in range(10):\n",
    "            plt.subplot(2, 5, i + 1)\n",
    "            plt.imshow(images[i].numpy(), cmap='gray')\n",
    "            plt.title(f\"Label: {labels[i].numpy()}\")\n",
    "            plt.axis(\"off\")\n",
    "        plt.show()\n",
    "\n",
    "    # Display a few images from the training set\n",
    "    num_images_to_display = 10\n",
    "    train_images, train_labels = next(iter(ds.batch(num_images_to_display)))\n",
    "    show_images(train_images, train_labels)\n"
   ]
  },
  {
   "cell_type": "code",
   "execution_count": 5,
   "id": "5e824cbb",
   "metadata": {},
   "outputs": [
    {
     "name": "stderr",
     "output_type": "stream",
     "text": [
      "I0000 00:00:1755613821.939956   58416 cuda_executor.cc:1015] successful NUMA node read from SysFS had negative value (-1), but there must be at least one NUMA node, so returning NUMA node zero. See more at https://github.com/torvalds/linux/blob/v6.0/Documentation/ABI/testing/sysfs-bus-pci#L344-L355\n",
      "I0000 00:00:1755613821.940285   58416 cuda_executor.cc:1015] successful NUMA node read from SysFS had negative value (-1), but there must be at least one NUMA node, so returning NUMA node zero. See more at https://github.com/torvalds/linux/blob/v6.0/Documentation/ABI/testing/sysfs-bus-pci#L344-L355\n",
      "I0000 00:00:1755613821.940554   58416 cuda_executor.cc:1015] successful NUMA node read from SysFS had negative value (-1), but there must be at least one NUMA node, so returning NUMA node zero. See more at https://github.com/torvalds/linux/blob/v6.0/Documentation/ABI/testing/sysfs-bus-pci#L344-L355\n",
      "I0000 00:00:1755613822.054770   58416 cuda_executor.cc:1015] successful NUMA node read from SysFS had negative value (-1), but there must be at least one NUMA node, so returning NUMA node zero. See more at https://github.com/torvalds/linux/blob/v6.0/Documentation/ABI/testing/sysfs-bus-pci#L344-L355\n",
      "I0000 00:00:1755613822.055102   58416 cuda_executor.cc:1015] successful NUMA node read from SysFS had negative value (-1), but there must be at least one NUMA node, so returning NUMA node zero. See more at https://github.com/torvalds/linux/blob/v6.0/Documentation/ABI/testing/sysfs-bus-pci#L344-L355\n",
      "I0000 00:00:1755613822.055543   58416 cuda_executor.cc:1015] successful NUMA node read from SysFS had negative value (-1), but there must be at least one NUMA node, so returning NUMA node zero. See more at https://github.com/torvalds/linux/blob/v6.0/Documentation/ABI/testing/sysfs-bus-pci#L344-L355\n",
      "2025-08-19 14:30:22.055741: I tensorflow/core/common_runtime/gpu/gpu_device.cc:2021] Created device /job:localhost/replica:0/task:0/device:GPU:0 with 20976 MB memory:  -> device: 0, name: NVIDIA GeForce RTX 2080 Ti, pci bus id: 0000:01:00.0, compute capability: 7.5\n"
     ]
    }
   ],
   "source": [
    "(_ds_train, _ds_test), _ds_info = tfds.load(\n",
    "    'mnist',\n",
    "    split=['train', 'test'],\n",
    "    shuffle_files=True,\n",
    "    as_supervised=True,\n",
    "    with_info=True,\n",
    ")"
   ]
  },
  {
   "cell_type": "code",
   "execution_count": 6,
   "id": "fcdad3eb",
   "metadata": {},
   "outputs": [],
   "source": [
    "def normalize_img(image, label):\n",
    "  \"\"\"Normalizes images: `uint8` -> `float32`.\"\"\"\n",
    "  return tf.cast(image, tf.float32) / 255., label"
   ]
  },
  {
   "cell_type": "code",
   "execution_count": 7,
   "id": "d1d8a780",
   "metadata": {},
   "outputs": [],
   "source": [
    "ds_train = _ds_train.map(\n",
    "    normalize_img, num_parallel_calls=tf.data.AUTOTUNE\n",
    ")\n",
    "ds_train = ds_train.cache()\n",
    "ds_train = ds_train.shuffle(_ds_info.splits['train'].num_examples)\n",
    "ds_train = ds_train.batch(128)\n",
    "ds_train = ds_train.prefetch(tf.data.AUTOTUNE)"
   ]
  },
  {
   "cell_type": "code",
   "execution_count": 8,
   "id": "c7a60fdc",
   "metadata": {},
   "outputs": [],
   "source": [
    "ds_test = _ds_test.map(\n",
    "    normalize_img, num_parallel_calls=tf.data.AUTOTUNE\n",
    ")\n",
    "ds_test = ds_test.batch(128)\n",
    "ds_test = ds_test.cache()\n",
    "ds_test = ds_test.prefetch(tf.data.AUTOTUNE)"
   ]
  },
  {
   "cell_type": "code",
   "execution_count": 9,
   "id": "28d437f3",
   "metadata": {},
   "outputs": [
    {
     "data": {
      "text/html": [
       "<pre style=\"white-space:pre;overflow-x:auto;line-height:normal;font-family:Menlo,'DejaVu Sans Mono',consolas,'Courier New',monospace\"><span style=\"font-weight: bold\">Model: \"sequential\"</span>\n",
       "</pre>\n"
      ],
      "text/plain": [
       "\u001b[1mModel: \"sequential\"\u001b[0m\n"
      ]
     },
     "metadata": {},
     "output_type": "display_data"
    },
    {
     "data": {
      "text/html": [
       "<pre style=\"white-space:pre;overflow-x:auto;line-height:normal;font-family:Menlo,'DejaVu Sans Mono',consolas,'Courier New',monospace\">┏━━━━━━━━━━━━━━━━━━━━━━━━━━━━━━━━━┳━━━━━━━━━━━━━━━━━━━━━━━━┳━━━━━━━━━━━━━━━┓\n",
       "┃<span style=\"font-weight: bold\"> Layer (type)                    </span>┃<span style=\"font-weight: bold\"> Output Shape           </span>┃<span style=\"font-weight: bold\">       Param # </span>┃\n",
       "┡━━━━━━━━━━━━━━━━━━━━━━━━━━━━━━━━━╇━━━━━━━━━━━━━━━━━━━━━━━━╇━━━━━━━━━━━━━━━┩\n",
       "│ conv2d (<span style=\"color: #0087ff; text-decoration-color: #0087ff\">Conv2D</span>)                 │ (<span style=\"color: #00d7ff; text-decoration-color: #00d7ff\">None</span>, <span style=\"color: #00af00; text-decoration-color: #00af00\">12</span>, <span style=\"color: #00af00; text-decoration-color: #00af00\">12</span>, <span style=\"color: #00af00; text-decoration-color: #00af00\">5</span>)      │           <span style=\"color: #00af00; text-decoration-color: #00af00\">130</span> │\n",
       "├─────────────────────────────────┼────────────────────────┼───────────────┤\n",
       "│ batch_normalization             │ (<span style=\"color: #00d7ff; text-decoration-color: #00d7ff\">None</span>, <span style=\"color: #00af00; text-decoration-color: #00af00\">12</span>, <span style=\"color: #00af00; text-decoration-color: #00af00\">12</span>, <span style=\"color: #00af00; text-decoration-color: #00af00\">5</span>)      │            <span style=\"color: #00af00; text-decoration-color: #00af00\">20</span> │\n",
       "│ (<span style=\"color: #0087ff; text-decoration-color: #0087ff\">BatchNormalization</span>)            │                        │               │\n",
       "├─────────────────────────────────┼────────────────────────┼───────────────┤\n",
       "│ activation (<span style=\"color: #0087ff; text-decoration-color: #0087ff\">Activation</span>)         │ (<span style=\"color: #00d7ff; text-decoration-color: #00d7ff\">None</span>, <span style=\"color: #00af00; text-decoration-color: #00af00\">12</span>, <span style=\"color: #00af00; text-decoration-color: #00af00\">12</span>, <span style=\"color: #00af00; text-decoration-color: #00af00\">5</span>)      │             <span style=\"color: #00af00; text-decoration-color: #00af00\">0</span> │\n",
       "├─────────────────────────────────┼────────────────────────┼───────────────┤\n",
       "│ average_pooling2d               │ (<span style=\"color: #00d7ff; text-decoration-color: #00d7ff\">None</span>, <span style=\"color: #00af00; text-decoration-color: #00af00\">6</span>, <span style=\"color: #00af00; text-decoration-color: #00af00\">6</span>, <span style=\"color: #00af00; text-decoration-color: #00af00\">5</span>)        │             <span style=\"color: #00af00; text-decoration-color: #00af00\">0</span> │\n",
       "│ (<span style=\"color: #0087ff; text-decoration-color: #0087ff\">AveragePooling2D</span>)              │                        │               │\n",
       "├─────────────────────────────────┼────────────────────────┼───────────────┤\n",
       "│ flatten (<span style=\"color: #0087ff; text-decoration-color: #0087ff\">Flatten</span>)               │ (<span style=\"color: #00d7ff; text-decoration-color: #00d7ff\">None</span>, <span style=\"color: #00af00; text-decoration-color: #00af00\">180</span>)            │             <span style=\"color: #00af00; text-decoration-color: #00af00\">0</span> │\n",
       "├─────────────────────────────────┼────────────────────────┼───────────────┤\n",
       "│ dense (<span style=\"color: #0087ff; text-decoration-color: #0087ff\">Dense</span>)                   │ (<span style=\"color: #00d7ff; text-decoration-color: #00d7ff\">None</span>, <span style=\"color: #00af00; text-decoration-color: #00af00\">10</span>)             │         <span style=\"color: #00af00; text-decoration-color: #00af00\">1,810</span> │\n",
       "└─────────────────────────────────┴────────────────────────┴───────────────┘\n",
       "</pre>\n"
      ],
      "text/plain": [
       "┏━━━━━━━━━━━━━━━━━━━━━━━━━━━━━━━━━┳━━━━━━━━━━━━━━━━━━━━━━━━┳━━━━━━━━━━━━━━━┓\n",
       "┃\u001b[1m \u001b[0m\u001b[1mLayer (type)                   \u001b[0m\u001b[1m \u001b[0m┃\u001b[1m \u001b[0m\u001b[1mOutput Shape          \u001b[0m\u001b[1m \u001b[0m┃\u001b[1m \u001b[0m\u001b[1m      Param #\u001b[0m\u001b[1m \u001b[0m┃\n",
       "┡━━━━━━━━━━━━━━━━━━━━━━━━━━━━━━━━━╇━━━━━━━━━━━━━━━━━━━━━━━━╇━━━━━━━━━━━━━━━┩\n",
       "│ conv2d (\u001b[38;5;33mConv2D\u001b[0m)                 │ (\u001b[38;5;45mNone\u001b[0m, \u001b[38;5;34m12\u001b[0m, \u001b[38;5;34m12\u001b[0m, \u001b[38;5;34m5\u001b[0m)      │           \u001b[38;5;34m130\u001b[0m │\n",
       "├─────────────────────────────────┼────────────────────────┼───────────────┤\n",
       "│ batch_normalization             │ (\u001b[38;5;45mNone\u001b[0m, \u001b[38;5;34m12\u001b[0m, \u001b[38;5;34m12\u001b[0m, \u001b[38;5;34m5\u001b[0m)      │            \u001b[38;5;34m20\u001b[0m │\n",
       "│ (\u001b[38;5;33mBatchNormalization\u001b[0m)            │                        │               │\n",
       "├─────────────────────────────────┼────────────────────────┼───────────────┤\n",
       "│ activation (\u001b[38;5;33mActivation\u001b[0m)         │ (\u001b[38;5;45mNone\u001b[0m, \u001b[38;5;34m12\u001b[0m, \u001b[38;5;34m12\u001b[0m, \u001b[38;5;34m5\u001b[0m)      │             \u001b[38;5;34m0\u001b[0m │\n",
       "├─────────────────────────────────┼────────────────────────┼───────────────┤\n",
       "│ average_pooling2d               │ (\u001b[38;5;45mNone\u001b[0m, \u001b[38;5;34m6\u001b[0m, \u001b[38;5;34m6\u001b[0m, \u001b[38;5;34m5\u001b[0m)        │             \u001b[38;5;34m0\u001b[0m │\n",
       "│ (\u001b[38;5;33mAveragePooling2D\u001b[0m)              │                        │               │\n",
       "├─────────────────────────────────┼────────────────────────┼───────────────┤\n",
       "│ flatten (\u001b[38;5;33mFlatten\u001b[0m)               │ (\u001b[38;5;45mNone\u001b[0m, \u001b[38;5;34m180\u001b[0m)            │             \u001b[38;5;34m0\u001b[0m │\n",
       "├─────────────────────────────────┼────────────────────────┼───────────────┤\n",
       "│ dense (\u001b[38;5;33mDense\u001b[0m)                   │ (\u001b[38;5;45mNone\u001b[0m, \u001b[38;5;34m10\u001b[0m)             │         \u001b[38;5;34m1,810\u001b[0m │\n",
       "└─────────────────────────────────┴────────────────────────┴───────────────┘\n"
      ]
     },
     "metadata": {},
     "output_type": "display_data"
    },
    {
     "data": {
      "text/html": [
       "<pre style=\"white-space:pre;overflow-x:auto;line-height:normal;font-family:Menlo,'DejaVu Sans Mono',consolas,'Courier New',monospace\"><span style=\"font-weight: bold\"> Total params: </span><span style=\"color: #00af00; text-decoration-color: #00af00\">5,862</span> (22.90 KB)\n",
       "</pre>\n"
      ],
      "text/plain": [
       "\u001b[1m Total params: \u001b[0m\u001b[38;5;34m5,862\u001b[0m (22.90 KB)\n"
      ]
     },
     "metadata": {},
     "output_type": "display_data"
    },
    {
     "data": {
      "text/html": [
       "<pre style=\"white-space:pre;overflow-x:auto;line-height:normal;font-family:Menlo,'DejaVu Sans Mono',consolas,'Courier New',monospace\"><span style=\"font-weight: bold\"> Trainable params: </span><span style=\"color: #00af00; text-decoration-color: #00af00\">1,950</span> (7.62 KB)\n",
       "</pre>\n"
      ],
      "text/plain": [
       "\u001b[1m Trainable params: \u001b[0m\u001b[38;5;34m1,950\u001b[0m (7.62 KB)\n"
      ]
     },
     "metadata": {},
     "output_type": "display_data"
    },
    {
     "data": {
      "text/html": [
       "<pre style=\"white-space:pre;overflow-x:auto;line-height:normal;font-family:Menlo,'DejaVu Sans Mono',consolas,'Courier New',monospace\"><span style=\"font-weight: bold\"> Non-trainable params: </span><span style=\"color: #00af00; text-decoration-color: #00af00\">10</span> (40.00 B)\n",
       "</pre>\n"
      ],
      "text/plain": [
       "\u001b[1m Non-trainable params: \u001b[0m\u001b[38;5;34m10\u001b[0m (40.00 B)\n"
      ]
     },
     "metadata": {},
     "output_type": "display_data"
    },
    {
     "data": {
      "text/html": [
       "<pre style=\"white-space:pre;overflow-x:auto;line-height:normal;font-family:Menlo,'DejaVu Sans Mono',consolas,'Courier New',monospace\"><span style=\"font-weight: bold\"> Optimizer params: </span><span style=\"color: #00af00; text-decoration-color: #00af00\">3,902</span> (15.25 KB)\n",
       "</pre>\n"
      ],
      "text/plain": [
       "\u001b[1m Optimizer params: \u001b[0m\u001b[38;5;34m3,902\u001b[0m (15.25 KB)\n"
      ]
     },
     "metadata": {},
     "output_type": "display_data"
    }
   ],
   "source": [
    "model = keras.models.load_model(f'{MODEL_PATH}model.keras')\n",
    "model.summary()"
   ]
  },
  {
   "cell_type": "code",
   "execution_count": 10,
   "id": "48bc35b8",
   "metadata": {},
   "outputs": [
    {
     "name": "stdout",
     "output_type": "stream",
     "text": [
      "name of weight:  kernel\n",
      "shape of the weight (5, 5, 1, 5)\n",
      "value type:  float32\n",
      "\n",
      "name of weight:  bias\n",
      "shape of the weight (5,)\n",
      "value type:  float32\n",
      "\n",
      "name of weight:  gamma\n",
      "shape of the weight (5,)\n",
      "value type:  float32\n",
      "\n",
      "name of weight:  beta\n",
      "shape of the weight (5,)\n",
      "value type:  float32\n",
      "\n",
      "name of weight:  moving_mean\n",
      "shape of the weight (5,)\n",
      "value type:  float32\n",
      "\n",
      "name of weight:  moving_variance\n",
      "shape of the weight (5,)\n",
      "value type:  float32\n",
      "\n",
      "name of weight:  kernel\n",
      "shape of the weight (180, 10)\n",
      "value type:  float32\n",
      "\n",
      "name of weight:  bias\n",
      "shape of the weight (10,)\n",
      "value type:  float32\n",
      "\n"
     ]
    }
   ],
   "source": [
    "for t_v in model.variables: # changed from trainable_variables\n",
    "    print(\"name of weight: \", t_v.name)\n",
    "    print(\"shape of the weight\", t_v.shape)\n",
    "    print(\"value type: \", t_v.numpy().dtype)\n",
    "    print()"
   ]
  },
  {
   "cell_type": "code",
   "execution_count": 11,
   "id": "594c8610",
   "metadata": {},
   "outputs": [
    {
     "data": {
      "text/plain": [
       "'batch_normalization/gamma'"
      ]
     },
     "execution_count": 11,
     "metadata": {},
     "output_type": "execute_result"
    }
   ],
   "source": [
    "model.trainable_variables[2].path"
   ]
  },
  {
   "cell_type": "code",
   "execution_count": 12,
   "id": "378493ce",
   "metadata": {},
   "outputs": [
    {
     "name": "stdout",
     "output_type": "stream",
     "text": [
      "kernel type: float32\n",
      "bias type: float32\n",
      "gamma type: float32\n",
      "beta type: float32\n",
      "[-0.05307069 -0.3848538  -0.00624614 -0.04942603 -0.26618075]\n",
      "[0.05307069 0.3848538  0.00624614 0.04942603 0.26618075]\n",
      "moving_mean type: float32\n",
      "BN epsilon: 0.001\n",
      "[0.3500521  0.63501    0.38577408 0.45407248 0.515422  ]\n",
      "[2.8567178 1.5747783 2.5921907 2.2022915 1.9401578]\n",
      "moving_variance type: float32\n",
      "kernel type: float32\n",
      "bias type: float32\n"
     ]
    }
   ],
   "source": [
    "for t_v in model.variables:\n",
    "    _name = t_v.path\n",
    "    \n",
    "    if \"_\" not in _name.split(\"/\")[0] or _name.split(\"/\")[0] == \"batch_normalization\":\n",
    "        name = _name.split(\"/\")[0] + \"_0/\" + _name.split(\"/\")[1]\n",
    "    # else:\n",
    "    #     name = \"/\".join(name.split(\"/\")[1:])\n",
    "    \n",
    "    name = name.replace(\"/\", \"_\")\n",
    "    \n",
    "    if _name.split(\"/\")[1] == \"moving_variance\":\n",
    "        target_path = t_v.path\n",
    "        for layer in model.layers:\n",
    "            for var in layer.variables:\n",
    "                if var.path == target_path:\n",
    "                    print(\"BN epsilon:\", layer.epsilon)\n",
    "                    \n",
    "                    moving_variance = layer.moving_variance.numpy()\n",
    "                    epsilon = layer.epsilon\n",
    "\n",
    "                    bn_denominator = np.sqrt(moving_variance + epsilon)\n",
    "                    print(bn_denominator)\n",
    "                    bn_denominator = 1/bn_denominator\n",
    "                    print(bn_denominator)\n",
    "                    np.save(f'{MODEL_PATH}{name}', bn_denominator.flatten())\n",
    "                    print(f'{_name.split(\"/\")[1]} type: {bn_denominator.dtype}')\n",
    "                    break\n",
    "    elif _name.split(\"/\")[1] == \"moving_mean\":\n",
    "        moving_mean = t_v.numpy()\n",
    "        print(moving_mean)\n",
    "        moving_mean = -moving_mean\n",
    "        print(moving_mean)\n",
    "        np.save(f'{MODEL_PATH}{name}', moving_mean.flatten())\n",
    "        print(f'{_name.split(\"/\")[1]} type: {moving_mean.dtype}')\n",
    "    else:\n",
    "        np.save(f'{MODEL_PATH}{name}', t_v.numpy().flatten())\n",
    "        print(f'{_name.split(\"/\")[1]} type: {t_v.numpy().dtype}')"
   ]
  },
  {
   "cell_type": "code",
   "execution_count": 13,
   "id": "a4e9f225",
   "metadata": {},
   "outputs": [
    {
     "name": "stderr",
     "output_type": "stream",
     "text": [
      "2025-08-19 14:30:25.771831: I tensorflow/core/framework/local_rendezvous.cc:404] Local rendezvous is aborting with status: OUT_OF_RANGE: End of sequence\n"
     ]
    },
    {
     "name": "stdout",
     "output_type": "stream",
     "text": [
      "(28, 28, 1) tf.Tensor(2, shape=(), dtype=int64)\n",
      "float32\n",
      "int64\n"
     ]
    }
   ],
   "source": [
    "x_ls = []\n",
    "y_ls = []\n",
    "for x, y in iter(ds_test.unbatch()):\n",
    "    x_ls.append(x)\n",
    "    y_ls.append(y)\n",
    "\n",
    "x_np = np.array(x_ls)\n",
    "y_np = np.array(y_ls)\n",
    "\n",
    "select_el = 500\n",
    "print(x_np[select_el].shape, y_ls[select_el])\n",
    "\n",
    "np.save(f\"{MODEL_PATH}test_x\", x_np.flatten()) # .map(lambda x: tf.cast(x, tf.float32))\n",
    "np.save(f\"{MODEL_PATH}test_y\", y_np.flatten())\n",
    "\n",
    "print(x_np.dtype)\n",
    "print(y_np.dtype)"
   ]
  },
  {
   "cell_type": "code",
   "execution_count": 14,
   "id": "3a9de750",
   "metadata": {},
   "outputs": [],
   "source": [
    "poly_str = \"+1.0588376954228294*x**0+0.4917208555350564*x**1+0.04654061020028913*x**2+0.00026703833952889034*x**3-7.414076828643847e-05*x**4-1.1386535999933917e-06*x**5\"\n",
    "domain = None\n",
    "level = 0\n",
    "\n",
    "terms = re.findall(r'[+-]?\\d*\\.?\\d+(?:e[+-]?\\d+)?', poly_str)\n",
    "consts = [float(term) for term in terms]\n",
    "poly_consts = np.array([v for i, v in enumerate(consts) if i % 2 != 1]) #, dtype=np.float32)\n",
    "\n",
    "np.save(f\"{MODEL_PATH}poly_consts_{level}\", poly_consts.flatten())\n",
    "\n",
    "if domain:\n",
    "    poly_domain = np.array([1/domain, domain])\n",
    "    np.save(f\"{MODEL_PATH}poly_domain_{level}\", poly_domain.flatten())"
   ]
  },
  {
   "cell_type": "code",
   "execution_count": 15,
   "id": "e6c012d8",
   "metadata": {},
   "outputs": [
    {
     "data": {
      "text/plain": [
       "array([ 1.05883770e+00,  4.91720856e-01,  4.65406102e-02,  2.67038340e-04,\n",
       "       -7.41407683e-05, -1.13865360e-06])"
      ]
     },
     "execution_count": 15,
     "metadata": {},
     "output_type": "execute_result"
    }
   ],
   "source": [
    "poly_consts"
   ]
  },
  {
   "cell_type": "code",
   "execution_count": 16,
   "id": "9c89fcf0",
   "metadata": {},
   "outputs": [
    {
     "data": {
      "text/plain": [
       "dtype('float64')"
      ]
     },
     "execution_count": 16,
     "metadata": {},
     "output_type": "execute_result"
    }
   ],
   "source": [
    "poly_consts.dtype"
   ]
  },
  {
   "cell_type": "code",
   "execution_count": 17,
   "id": "3a4c7167",
   "metadata": {},
   "outputs": [],
   "source": [
    "if domain:\n",
    "    poly_domain"
   ]
  },
  {
   "cell_type": "code",
   "execution_count": 18,
   "id": "ab0c3400",
   "metadata": {},
   "outputs": [],
   "source": [
    "if domain:\n",
    "    poly_domain.dtype"
   ]
  }
 ],
 "metadata": {
  "kernelspec": {
   "display_name": "Python 3",
   "language": "python",
   "name": "python3"
  },
  "language_info": {
   "codemirror_mode": {
    "name": "ipython",
    "version": 3
   },
   "file_extension": ".py",
   "mimetype": "text/x-python",
   "name": "python",
   "nbconvert_exporter": "python",
   "pygments_lexer": "ipython3",
   "version": "3.11.9"
  }
 },
 "nbformat": 4,
 "nbformat_minor": 5
}
