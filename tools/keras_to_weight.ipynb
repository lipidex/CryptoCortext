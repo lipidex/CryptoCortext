{
 "cells": [
  {
   "cell_type": "code",
   "execution_count": 1,
   "id": "b2ef36bc",
   "metadata": {},
   "outputs": [
    {
     "name": "stderr",
     "output_type": "stream",
     "text": [
      "2025-08-24 16:58:58.778653: E external/local_xla/xla/stream_executor/cuda/cuda_fft.cc:485] Unable to register cuFFT factory: Attempting to register factory for plugin cuFFT when one has already been registered\n",
      "2025-08-24 16:58:58.795648: E external/local_xla/xla/stream_executor/cuda/cuda_dnn.cc:8454] Unable to register cuDNN factory: Attempting to register factory for plugin cuDNN when one has already been registered\n",
      "2025-08-24 16:58:58.800928: E external/local_xla/xla/stream_executor/cuda/cuda_blas.cc:1452] Unable to register cuBLAS factory: Attempting to register factory for plugin cuBLAS when one has already been registered\n",
      "2025-08-24 16:58:58.814950: I tensorflow/core/platform/cpu_feature_guard.cc:210] This TensorFlow binary is optimized to use available CPU instructions in performance-critical operations.\n",
      "To enable the following instructions: SSE4.1 SSE4.2 AVX AVX2 FMA, in other operations, rebuild TensorFlow with the appropriate compiler flags.\n"
     ]
    }
   ],
   "source": [
    "import re\n",
    "import math\n",
    "import keras\n",
    "import numpy as np\n",
    "import tensorflow as tf\n",
    "import tensorflow_datasets as tfds"
   ]
  },
  {
   "cell_type": "code",
   "execution_count": 2,
   "id": "de3e2247",
   "metadata": {},
   "outputs": [
    {
     "name": "stdout",
     "output_type": "stream",
     "text": [
      "Device: /physical_device:GPU:0, Compute Capability: (7, 5)\n"
     ]
    },
    {
     "name": "stderr",
     "output_type": "stream",
     "text": [
      "WARNING: All log messages before absl::InitializeLog() is called are written to STDERR\n",
      "I0000 00:00:1756054741.190266 3799016 cuda_executor.cc:1015] successful NUMA node read from SysFS had negative value (-1), but there must be at least one NUMA node, so returning NUMA node zero. See more at https://github.com/torvalds/linux/blob/v6.0/Documentation/ABI/testing/sysfs-bus-pci#L344-L355\n",
      "I0000 00:00:1756054741.243186 3799016 cuda_executor.cc:1015] successful NUMA node read from SysFS had negative value (-1), but there must be at least one NUMA node, so returning NUMA node zero. See more at https://github.com/torvalds/linux/blob/v6.0/Documentation/ABI/testing/sysfs-bus-pci#L344-L355\n",
      "I0000 00:00:1756054741.243525 3799016 cuda_executor.cc:1015] successful NUMA node read from SysFS had negative value (-1), but there must be at least one NUMA node, so returning NUMA node zero. See more at https://github.com/torvalds/linux/blob/v6.0/Documentation/ABI/testing/sysfs-bus-pci#L344-L355\n",
      "I0000 00:00:1756054741.245191 3799016 cuda_executor.cc:1015] successful NUMA node read from SysFS had negative value (-1), but there must be at least one NUMA node, so returning NUMA node zero. See more at https://github.com/torvalds/linux/blob/v6.0/Documentation/ABI/testing/sysfs-bus-pci#L344-L355\n"
     ]
    }
   ],
   "source": [
    "gpus = tf.config.experimental.list_physical_devices('GPU')\n",
    "\n",
    "for gpu in gpus:\n",
    "    details = tf.config.experimental.get_device_details(gpu)\n",
    "    compute_capability = details.get('compute_capability', 'Unknown')\n",
    "    print(f\"Device: {gpu.name}, Compute Capability: {compute_capability}\")\n",
    "    \n",
    "    try:\n",
    "        tf.config.experimental.set_memory_growth(gpu, True)\n",
    "    except RuntimeError as e:\n",
    "        print(e)"
   ]
  },
  {
   "cell_type": "code",
   "execution_count": 3,
   "id": "12db23b7",
   "metadata": {},
   "outputs": [],
   "source": [
    "MODEL_PATH = \"../model/\"\n",
    "MODEL_PATH += \"softplus_cnn_10/\""
   ]
  },
  {
   "cell_type": "code",
   "execution_count": 4,
   "id": "9c2042cb",
   "metadata": {},
   "outputs": [],
   "source": [
    "def print_mnist(ds):\n",
    "    import matplotlib.pyplot as plt\n",
    "\n",
    "    # Function to display MNIST images\n",
    "    def show_images(images, labels):\n",
    "        plt.figure(figsize=(10, 5))\n",
    "        for i in range(10):\n",
    "            plt.subplot(2, 5, i + 1)\n",
    "            plt.imshow(images[i].numpy(), cmap='gray')\n",
    "            plt.title(f\"Label: {labels[i].numpy()}\")\n",
    "            plt.axis(\"off\")\n",
    "        plt.show()\n",
    "\n",
    "    # Display a few images from the training set\n",
    "    num_images_to_display = 10\n",
    "    train_images, train_labels = next(iter(ds.batch(num_images_to_display)))\n",
    "    show_images(train_images, train_labels)\n"
   ]
  },
  {
   "cell_type": "code",
   "execution_count": 5,
   "id": "5e824cbb",
   "metadata": {},
   "outputs": [
    {
     "name": "stderr",
     "output_type": "stream",
     "text": [
      "I0000 00:00:1756054741.324091 3799016 cuda_executor.cc:1015] successful NUMA node read from SysFS had negative value (-1), but there must be at least one NUMA node, so returning NUMA node zero. See more at https://github.com/torvalds/linux/blob/v6.0/Documentation/ABI/testing/sysfs-bus-pci#L344-L355\n",
      "I0000 00:00:1756054741.324436 3799016 cuda_executor.cc:1015] successful NUMA node read from SysFS had negative value (-1), but there must be at least one NUMA node, so returning NUMA node zero. See more at https://github.com/torvalds/linux/blob/v6.0/Documentation/ABI/testing/sysfs-bus-pci#L344-L355\n",
      "I0000 00:00:1756054741.324670 3799016 cuda_executor.cc:1015] successful NUMA node read from SysFS had negative value (-1), but there must be at least one NUMA node, so returning NUMA node zero. See more at https://github.com/torvalds/linux/blob/v6.0/Documentation/ABI/testing/sysfs-bus-pci#L344-L355\n",
      "I0000 00:00:1756054741.430746 3799016 cuda_executor.cc:1015] successful NUMA node read from SysFS had negative value (-1), but there must be at least one NUMA node, so returning NUMA node zero. See more at https://github.com/torvalds/linux/blob/v6.0/Documentation/ABI/testing/sysfs-bus-pci#L344-L355\n",
      "I0000 00:00:1756054741.431063 3799016 cuda_executor.cc:1015] successful NUMA node read from SysFS had negative value (-1), but there must be at least one NUMA node, so returning NUMA node zero. See more at https://github.com/torvalds/linux/blob/v6.0/Documentation/ABI/testing/sysfs-bus-pci#L344-L355\n",
      "I0000 00:00:1756054741.431294 3799016 cuda_executor.cc:1015] successful NUMA node read from SysFS had negative value (-1), but there must be at least one NUMA node, so returning NUMA node zero. See more at https://github.com/torvalds/linux/blob/v6.0/Documentation/ABI/testing/sysfs-bus-pci#L344-L355\n",
      "2025-08-24 16:59:01.431488: I tensorflow/core/common_runtime/gpu/gpu_device.cc:2021] Created device /job:localhost/replica:0/task:0/device:GPU:0 with 20976 MB memory:  -> device: 0, name: NVIDIA GeForce RTX 2080 Ti, pci bus id: 0000:01:00.0, compute capability: 7.5\n"
     ]
    }
   ],
   "source": [
    "(_ds_train, _ds_test), _ds_info = tfds.load(\n",
    "    'mnist',\n",
    "    split=['train', 'test'],\n",
    "    shuffle_files=True,\n",
    "    as_supervised=True,\n",
    "    with_info=True,\n",
    ")"
   ]
  },
  {
   "cell_type": "code",
   "execution_count": 6,
   "id": "fcdad3eb",
   "metadata": {},
   "outputs": [],
   "source": [
    "def normalize_img(image, label):\n",
    "  \"\"\"Normalizes images: `uint8` -> `float32`.\"\"\"\n",
    "  return tf.cast(image, tf.float32) / 255., label"
   ]
  },
  {
   "cell_type": "code",
   "execution_count": 7,
   "id": "d1d8a780",
   "metadata": {},
   "outputs": [],
   "source": [
    "ds_train = _ds_train.map(\n",
    "    normalize_img, num_parallel_calls=tf.data.AUTOTUNE\n",
    ")\n",
    "ds_train = ds_train.cache()\n",
    "ds_train = ds_train.shuffle(_ds_info.splits['train'].num_examples)\n",
    "ds_train = ds_train.batch(128)\n",
    "ds_train = ds_train.prefetch(tf.data.AUTOTUNE)"
   ]
  },
  {
   "cell_type": "code",
   "execution_count": 8,
   "id": "c7a60fdc",
   "metadata": {},
   "outputs": [],
   "source": [
    "ds_test = _ds_test.map(\n",
    "    normalize_img, num_parallel_calls=tf.data.AUTOTUNE\n",
    ")\n",
    "ds_test = ds_test.batch(128)\n",
    "ds_test = ds_test.cache()\n",
    "ds_test = ds_test.prefetch(tf.data.AUTOTUNE)"
   ]
  },
  {
   "cell_type": "code",
   "execution_count": 9,
   "id": "28d437f3",
   "metadata": {},
   "outputs": [
    {
     "data": {
      "text/html": [
       "<pre style=\"white-space:pre;overflow-x:auto;line-height:normal;font-family:Menlo,'DejaVu Sans Mono',consolas,'Courier New',monospace\"><span style=\"font-weight: bold\">Model: \"sequential\"</span>\n",
       "</pre>\n"
      ],
      "text/plain": [
       "\u001b[1mModel: \"sequential\"\u001b[0m\n"
      ]
     },
     "metadata": {},
     "output_type": "display_data"
    },
    {
     "data": {
      "text/html": [
       "<pre style=\"white-space:pre;overflow-x:auto;line-height:normal;font-family:Menlo,'DejaVu Sans Mono',consolas,'Courier New',monospace\">┏━━━━━━━━━━━━━━━━━━━━━━━━━━━━━━━━━┳━━━━━━━━━━━━━━━━━━━━━━━━┳━━━━━━━━━━━━━━━┓\n",
       "┃<span style=\"font-weight: bold\"> Layer (type)                    </span>┃<span style=\"font-weight: bold\"> Output Shape           </span>┃<span style=\"font-weight: bold\">       Param # </span>┃\n",
       "┡━━━━━━━━━━━━━━━━━━━━━━━━━━━━━━━━━╇━━━━━━━━━━━━━━━━━━━━━━━━╇━━━━━━━━━━━━━━━┩\n",
       "│ conv2d (<span style=\"color: #0087ff; text-decoration-color: #0087ff\">Conv2D</span>)                 │ (<span style=\"color: #00d7ff; text-decoration-color: #00d7ff\">None</span>, <span style=\"color: #00af00; text-decoration-color: #00af00\">12</span>, <span style=\"color: #00af00; text-decoration-color: #00af00\">12</span>, <span style=\"color: #00af00; text-decoration-color: #00af00\">5</span>)      │           <span style=\"color: #00af00; text-decoration-color: #00af00\">130</span> │\n",
       "├─────────────────────────────────┼────────────────────────┼───────────────┤\n",
       "│ activation (<span style=\"color: #0087ff; text-decoration-color: #0087ff\">Activation</span>)         │ (<span style=\"color: #00d7ff; text-decoration-color: #00d7ff\">None</span>, <span style=\"color: #00af00; text-decoration-color: #00af00\">12</span>, <span style=\"color: #00af00; text-decoration-color: #00af00\">12</span>, <span style=\"color: #00af00; text-decoration-color: #00af00\">5</span>)      │             <span style=\"color: #00af00; text-decoration-color: #00af00\">0</span> │\n",
       "├─────────────────────────────────┼────────────────────────┼───────────────┤\n",
       "│ average_pooling2d               │ (<span style=\"color: #00d7ff; text-decoration-color: #00d7ff\">None</span>, <span style=\"color: #00af00; text-decoration-color: #00af00\">6</span>, <span style=\"color: #00af00; text-decoration-color: #00af00\">6</span>, <span style=\"color: #00af00; text-decoration-color: #00af00\">5</span>)        │             <span style=\"color: #00af00; text-decoration-color: #00af00\">0</span> │\n",
       "│ (<span style=\"color: #0087ff; text-decoration-color: #0087ff\">AveragePooling2D</span>)              │                        │               │\n",
       "├─────────────────────────────────┼────────────────────────┼───────────────┤\n",
       "│ flatten (<span style=\"color: #0087ff; text-decoration-color: #0087ff\">Flatten</span>)               │ (<span style=\"color: #00d7ff; text-decoration-color: #00d7ff\">None</span>, <span style=\"color: #00af00; text-decoration-color: #00af00\">180</span>)            │             <span style=\"color: #00af00; text-decoration-color: #00af00\">0</span> │\n",
       "├─────────────────────────────────┼────────────────────────┼───────────────┤\n",
       "│ dense (<span style=\"color: #0087ff; text-decoration-color: #0087ff\">Dense</span>)                   │ (<span style=\"color: #00d7ff; text-decoration-color: #00d7ff\">None</span>, <span style=\"color: #00af00; text-decoration-color: #00af00\">10</span>)             │         <span style=\"color: #00af00; text-decoration-color: #00af00\">1,810</span> │\n",
       "└─────────────────────────────────┴────────────────────────┴───────────────┘\n",
       "</pre>\n"
      ],
      "text/plain": [
       "┏━━━━━━━━━━━━━━━━━━━━━━━━━━━━━━━━━┳━━━━━━━━━━━━━━━━━━━━━━━━┳━━━━━━━━━━━━━━━┓\n",
       "┃\u001b[1m \u001b[0m\u001b[1mLayer (type)                   \u001b[0m\u001b[1m \u001b[0m┃\u001b[1m \u001b[0m\u001b[1mOutput Shape          \u001b[0m\u001b[1m \u001b[0m┃\u001b[1m \u001b[0m\u001b[1m      Param #\u001b[0m\u001b[1m \u001b[0m┃\n",
       "┡━━━━━━━━━━━━━━━━━━━━━━━━━━━━━━━━━╇━━━━━━━━━━━━━━━━━━━━━━━━╇━━━━━━━━━━━━━━━┩\n",
       "│ conv2d (\u001b[38;5;33mConv2D\u001b[0m)                 │ (\u001b[38;5;45mNone\u001b[0m, \u001b[38;5;34m12\u001b[0m, \u001b[38;5;34m12\u001b[0m, \u001b[38;5;34m5\u001b[0m)      │           \u001b[38;5;34m130\u001b[0m │\n",
       "├─────────────────────────────────┼────────────────────────┼───────────────┤\n",
       "│ activation (\u001b[38;5;33mActivation\u001b[0m)         │ (\u001b[38;5;45mNone\u001b[0m, \u001b[38;5;34m12\u001b[0m, \u001b[38;5;34m12\u001b[0m, \u001b[38;5;34m5\u001b[0m)      │             \u001b[38;5;34m0\u001b[0m │\n",
       "├─────────────────────────────────┼────────────────────────┼───────────────┤\n",
       "│ average_pooling2d               │ (\u001b[38;5;45mNone\u001b[0m, \u001b[38;5;34m6\u001b[0m, \u001b[38;5;34m6\u001b[0m, \u001b[38;5;34m5\u001b[0m)        │             \u001b[38;5;34m0\u001b[0m │\n",
       "│ (\u001b[38;5;33mAveragePooling2D\u001b[0m)              │                        │               │\n",
       "├─────────────────────────────────┼────────────────────────┼───────────────┤\n",
       "│ flatten (\u001b[38;5;33mFlatten\u001b[0m)               │ (\u001b[38;5;45mNone\u001b[0m, \u001b[38;5;34m180\u001b[0m)            │             \u001b[38;5;34m0\u001b[0m │\n",
       "├─────────────────────────────────┼────────────────────────┼───────────────┤\n",
       "│ dense (\u001b[38;5;33mDense\u001b[0m)                   │ (\u001b[38;5;45mNone\u001b[0m, \u001b[38;5;34m10\u001b[0m)             │         \u001b[38;5;34m1,810\u001b[0m │\n",
       "└─────────────────────────────────┴────────────────────────┴───────────────┘\n"
      ]
     },
     "metadata": {},
     "output_type": "display_data"
    },
    {
     "data": {
      "text/html": [
       "<pre style=\"white-space:pre;overflow-x:auto;line-height:normal;font-family:Menlo,'DejaVu Sans Mono',consolas,'Courier New',monospace\"><span style=\"font-weight: bold\"> Total params: </span><span style=\"color: #00af00; text-decoration-color: #00af00\">5,822</span> (22.75 KB)\n",
       "</pre>\n"
      ],
      "text/plain": [
       "\u001b[1m Total params: \u001b[0m\u001b[38;5;34m5,822\u001b[0m (22.75 KB)\n"
      ]
     },
     "metadata": {},
     "output_type": "display_data"
    },
    {
     "data": {
      "text/html": [
       "<pre style=\"white-space:pre;overflow-x:auto;line-height:normal;font-family:Menlo,'DejaVu Sans Mono',consolas,'Courier New',monospace\"><span style=\"font-weight: bold\"> Trainable params: </span><span style=\"color: #00af00; text-decoration-color: #00af00\">1,940</span> (7.58 KB)\n",
       "</pre>\n"
      ],
      "text/plain": [
       "\u001b[1m Trainable params: \u001b[0m\u001b[38;5;34m1,940\u001b[0m (7.58 KB)\n"
      ]
     },
     "metadata": {},
     "output_type": "display_data"
    },
    {
     "data": {
      "text/html": [
       "<pre style=\"white-space:pre;overflow-x:auto;line-height:normal;font-family:Menlo,'DejaVu Sans Mono',consolas,'Courier New',monospace\"><span style=\"font-weight: bold\"> Non-trainable params: </span><span style=\"color: #00af00; text-decoration-color: #00af00\">0</span> (0.00 B)\n",
       "</pre>\n"
      ],
      "text/plain": [
       "\u001b[1m Non-trainable params: \u001b[0m\u001b[38;5;34m0\u001b[0m (0.00 B)\n"
      ]
     },
     "metadata": {},
     "output_type": "display_data"
    },
    {
     "data": {
      "text/html": [
       "<pre style=\"white-space:pre;overflow-x:auto;line-height:normal;font-family:Menlo,'DejaVu Sans Mono',consolas,'Courier New',monospace\"><span style=\"font-weight: bold\"> Optimizer params: </span><span style=\"color: #00af00; text-decoration-color: #00af00\">3,882</span> (15.17 KB)\n",
       "</pre>\n"
      ],
      "text/plain": [
       "\u001b[1m Optimizer params: \u001b[0m\u001b[38;5;34m3,882\u001b[0m (15.17 KB)\n"
      ]
     },
     "metadata": {},
     "output_type": "display_data"
    }
   ],
   "source": [
    "model = keras.models.load_model(f'{MODEL_PATH}model.keras')\n",
    "model.summary()"
   ]
  },
  {
   "cell_type": "code",
   "execution_count": 10,
   "id": "48bc35b8",
   "metadata": {},
   "outputs": [
    {
     "name": "stdout",
     "output_type": "stream",
     "text": [
      "name of weight:  kernel\n",
      "shape of the weight (5, 5, 1, 5)\n",
      "value type:  float32\n",
      "\n",
      "name of weight:  bias\n",
      "shape of the weight (5,)\n",
      "value type:  float32\n",
      "\n",
      "name of weight:  kernel\n",
      "shape of the weight (180, 10)\n",
      "value type:  float32\n",
      "\n",
      "name of weight:  bias\n",
      "shape of the weight (10,)\n",
      "value type:  float32\n",
      "\n"
     ]
    }
   ],
   "source": [
    "for t_v in model.variables: # changed from trainable_variables\n",
    "    print(\"name of weight: \", t_v.name)\n",
    "    print(\"shape of the weight\", t_v.shape)\n",
    "    print(\"value type: \", t_v.numpy().dtype)\n",
    "    print()"
   ]
  },
  {
   "cell_type": "code",
   "execution_count": 11,
   "id": "594c8610",
   "metadata": {},
   "outputs": [
    {
     "data": {
      "text/plain": [
       "'dense/kernel'"
      ]
     },
     "execution_count": 11,
     "metadata": {},
     "output_type": "execute_result"
    }
   ],
   "source": [
    "model.trainable_variables[2].path"
   ]
  },
  {
   "cell_type": "code",
   "execution_count": 12,
   "id": "378493ce",
   "metadata": {},
   "outputs": [
    {
     "name": "stdout",
     "output_type": "stream",
     "text": [
      "kernel type: float32\n",
      "kernel file: conv2d_0_kernel\n",
      "bias type: float32\n",
      "bias file: conv2d_0_bias\n",
      "kernel type: float32\n",
      "kernel file: dense_0_kernel\n",
      "bias type: float32\n",
      "bias file: dense_0_bias\n"
     ]
    }
   ],
   "source": [
    "for t_v in model.variables:\n",
    "    _name = t_v.path\n",
    "    \n",
    "    if \"_\" not in _name.split(\"/\")[0] or _name.split(\"/\")[0] == \"batch_normalization\":\n",
    "        name = _name.split(\"/\")[0] + \"_0/\" + _name.split(\"/\")[1]\n",
    "    else:\n",
    "        name = _name\n",
    "    \n",
    "    name = name.replace(\"/\", \"_\")\n",
    "    \n",
    "    if _name.split(\"/\")[1] == \"gamma\":\n",
    "        continue\n",
    "    elif _name.split(\"/\")[1] == \"moving_variance\":\n",
    "        target_path = t_v.path\n",
    "        for layer in model.layers:\n",
    "            for var in layer.variables:\n",
    "                if var.path == target_path:\n",
    "                    print(\"BN epsilon:\", layer.epsilon)\n",
    "                    \n",
    "                    moving_variance = layer.moving_variance.numpy()\n",
    "                    epsilon = layer.epsilon\n",
    "                    gamma = layer.gamma.numpy()\n",
    "\n",
    "                    bn_denominator = np.sqrt(moving_variance + epsilon)\n",
    "                    print(bn_denominator)\n",
    "                    bn_denominator = gamma/bn_denominator\n",
    "                    print(bn_denominator)\n",
    "                    np.save(f'{MODEL_PATH}{name}_gamma', bn_denominator.flatten())\n",
    "                    print(f'{_name.split(\"/\")[1]} type: {bn_denominator.dtype}')\n",
    "                    print(f'{_name.split(\"/\")[1]} file: {name}')\n",
    "                    break\n",
    "    elif _name.split(\"/\")[1] == \"moving_mean\":\n",
    "        moving_mean = t_v.numpy()\n",
    "        print(moving_mean)\n",
    "        moving_mean = -moving_mean\n",
    "        print(moving_mean)\n",
    "        np.save(f'{MODEL_PATH}{name}', moving_mean.flatten())\n",
    "        print(f'{_name.split(\"/\")[1]} type: {moving_mean.dtype}')\n",
    "        print(f'{_name.split(\"/\")[1]} file: {name}')\n",
    "    else:\n",
    "        np.save(f'{MODEL_PATH}{name}', t_v.numpy().flatten())\n",
    "        print(f'{_name.split(\"/\")[1]} type: {t_v.numpy().dtype}')\n",
    "        print(f'{_name.split(\"/\")[1]} file: {name}')"
   ]
  },
  {
   "cell_type": "code",
   "execution_count": 13,
   "id": "a4e9f225",
   "metadata": {},
   "outputs": [
    {
     "name": "stderr",
     "output_type": "stream",
     "text": [
      "2025-08-24 16:59:04.892105: I tensorflow/core/framework/local_rendezvous.cc:404] Local rendezvous is aborting with status: OUT_OF_RANGE: End of sequence\n"
     ]
    },
    {
     "name": "stdout",
     "output_type": "stream",
     "text": [
      "(28, 28, 1) tf.Tensor(2, shape=(), dtype=int64)\n",
      "float32\n",
      "int64\n"
     ]
    }
   ],
   "source": [
    "x_ls = []\n",
    "y_ls = []\n",
    "for x, y in iter(ds_test.unbatch()):\n",
    "    x_ls.append(x)\n",
    "    y_ls.append(y)\n",
    "\n",
    "x_np = np.array(x_ls)\n",
    "y_np = np.array(y_ls)\n",
    "\n",
    "select_el = 500\n",
    "print(x_np[select_el].shape, y_ls[select_el])\n",
    "\n",
    "np.save(f\"{MODEL_PATH}test_x\", x_np.flatten()) # .map(lambda x: tf.cast(x, tf.float32))\n",
    "np.save(f\"{MODEL_PATH}test_y\", y_np.flatten())\n",
    "\n",
    "print(x_np.dtype)\n",
    "print(y_np.dtype)"
   ]
  },
  {
   "cell_type": "code",
   "execution_count": 14,
   "id": "3a9de750",
   "metadata": {},
   "outputs": [],
   "source": [
    "poly_str = \"+0.7723556537904562*x**0+0.4927314394063655*x**1+0.08394741209062835*x**2+0.0008529256208187761*x**3-0.0006998273623217578*x**4-2.055394228645903e-05*x**5+3.3096502778746024e-06*x**6+1.590135865104152e-07*x**7-4.342896654959086e-09*x**8-3.713780310480863e-10*x**9-5.729341746603909e-12*x**10\"\n",
    "domain = None\n",
    "level = 0\n",
    "\n",
    "terms = re.findall(r'[+-]?\\d*\\.?\\d+(?:e[+-]?\\d+)?', poly_str)\n",
    "consts = [float(term) for term in terms]\n",
    "poly_consts = np.array([v for i, v in enumerate(consts) if i % 2 != 1]) #, dtype=np.float32)\n",
    "\n",
    "np.save(f\"{MODEL_PATH}poly_consts_{level}\", poly_consts.flatten())\n",
    "\n",
    "if domain:\n",
    "    poly_domain = np.array([1/domain, domain])\n",
    "    np.save(f\"{MODEL_PATH}poly_domain_{level}\", poly_domain.flatten())"
   ]
  },
  {
   "cell_type": "code",
   "execution_count": 15,
   "id": "e6c012d8",
   "metadata": {},
   "outputs": [
    {
     "data": {
      "text/plain": [
       "array([ 7.72355654e-01,  4.92731439e-01,  8.39474121e-02,  8.52925621e-04,\n",
       "       -6.99827362e-04, -2.05539423e-05,  3.30965028e-06,  1.59013587e-07,\n",
       "       -4.34289665e-09, -3.71378031e-10, -5.72934175e-12])"
      ]
     },
     "execution_count": 15,
     "metadata": {},
     "output_type": "execute_result"
    }
   ],
   "source": [
    "poly_consts"
   ]
  },
  {
   "cell_type": "code",
   "execution_count": 16,
   "id": "9c89fcf0",
   "metadata": {},
   "outputs": [
    {
     "data": {
      "text/plain": [
       "dtype('float64')"
      ]
     },
     "execution_count": 16,
     "metadata": {},
     "output_type": "execute_result"
    }
   ],
   "source": [
    "poly_consts.dtype"
   ]
  },
  {
   "cell_type": "code",
   "execution_count": 17,
   "id": "3a4c7167",
   "metadata": {},
   "outputs": [],
   "source": [
    "if domain:\n",
    "    poly_domain"
   ]
  },
  {
   "cell_type": "code",
   "execution_count": 18,
   "id": "ab0c3400",
   "metadata": {},
   "outputs": [],
   "source": [
    "if domain:\n",
    "    poly_domain.dtype"
   ]
  }
 ],
 "metadata": {
  "kernelspec": {
   "display_name": "Python 3",
   "language": "python",
   "name": "python3"
  },
  "language_info": {
   "codemirror_mode": {
    "name": "ipython",
    "version": 3
   },
   "file_extension": ".py",
   "mimetype": "text/x-python",
   "name": "python",
   "nbconvert_exporter": "python",
   "pygments_lexer": "ipython3",
   "version": "3.11.9"
  }
 },
 "nbformat": 4,
 "nbformat_minor": 5
}
